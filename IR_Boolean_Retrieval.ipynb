{
  "nbformat": 4,
  "nbformat_minor": 0,
  "metadata": {
    "colab": {
      "provenance": []
    },
    "kernelspec": {
      "name": "python3",
      "display_name": "Python 3"
    },
    "language_info": {
      "name": "python"
    }
  },
  "cells": [
    {
      "cell_type": "markdown",
      "metadata": {
        "id": "X-gYOgFTb1u1"
      },
      "source": [
        "Let's create a set of textual documents to create our collection."
      ]
    },
    {
      "cell_type": "code",
      "metadata": {
        "id": "YGPQ5cgYb85k",
        "colab": {
          "base_uri": "https://localhost:8080/"
        },
        "outputId": "ddba8633-296b-4de9-8238-c7c54b7f82ce"
      },
      "source": [
        " d0 = \"هذا هو اليوم الأول من دورة استرجاع المعلومات\"\n",
        " d1 = \"الدورة باللغة العربية للطلاب العرب\"\n",
        " d2 = \"دورة اليوم في 30 مايو 2021\"\n",
        " d3 = \"نأمل أن تفيد هذه الدورة الطلاب العرب\"\n",
        " d4 = \"هل أنتم سعداء بهذه التجربة\"\n",
        " collection = {\"doc0\": d0,\n",
        "         \"doc1\": d1,\n",
        "         \"doc2\": d2,\n",
        "         \"doc3\": d3,\n",
        "         \"doc4\": d4}\n",
        "collection"
      ],
      "execution_count": 73,
      "outputs": [
        {
          "output_type": "execute_result",
          "data": {
            "text/plain": [
              "{'doc0': 'هذا هو اليوم الأول من دورة استرجاع المعلومات',\n",
              " 'doc1': 'الدورة باللغة العربية للطلاب العرب',\n",
              " 'doc2': 'دورة اليوم في 30 مايو 2021',\n",
              " 'doc3': 'نأمل أن تفيد هذه الدورة الطلاب العرب',\n",
              " 'doc4': 'هل أنتم سعداء بهذه التجربة'}"
            ]
          },
          "metadata": {},
          "execution_count": 73
        }
      ]
    },
    {
      "cell_type": "markdown",
      "metadata": {
        "id": "0AUB6J3MBct_"
      },
      "source": [
        "Let's define our boolean operators."
      ]
    },
    {
      "cell_type": "code",
      "metadata": {
        "id": "zMRqaPgoSyIc"
      },
      "source": [
        "boolean_operators = {'AND', 'OR', 'NOT'}"
      ],
      "execution_count": 74,
      "outputs": []
    },
    {
      "cell_type": "markdown",
      "metadata": {
        "id": "OVn7RVpCtVvF"
      },
      "source": [
        "We need to implement some helper functions below"
      ]
    },
    {
      "cell_type": "code",
      "metadata": {
        "id": "Yu4ohBCYtGyV"
      },
      "source": [
        "  #list of terms\n",
        "  def get_terms(data):\n",
        "        terms=[]\n",
        "        for doc in data:\n",
        "            for term in data[doc].split() :\n",
        "                terms.append(term)\n",
        "        return terms\n",
        "\n",
        "   #list of unique terms\n",
        "  def get_unique_terms(terms):\n",
        "        unique_terms=[]\n",
        "        for d in terms :\n",
        "            if d not in unique_terms:\n",
        "               unique_terms.append(d)\n",
        "        return unique_terms\n",
        "\n",
        "  #document collection terms\n",
        "  def get_document_collection_terms(data):\n",
        "        docs_colllection={}\n",
        "        for doc in data.keys():\n",
        "            if doc not in boolean_operators :\n",
        "                docs_colllection[doc]=get_unique_terms(data[doc].split())\n",
        "        return docs_colllection\n",
        "\n",
        "  def display_dict(dic):\n",
        "        print(\"\\n\")\n",
        "        for i in dic:\n",
        "            print (i , \" : \" ,dic[i])\n",
        "        print(\"\\n\")"
      ],
      "execution_count": 75,
      "outputs": []
    },
    {
      "cell_type": "markdown",
      "metadata": {
        "id": "ndVd0b8zsod6"
      },
      "source": [
        "Let's check the output of our helper functions."
      ]
    },
    {
      "cell_type": "code",
      "source": [
        "get_document_collection_terms(collection)"
      ],
      "metadata": {
        "colab": {
          "base_uri": "https://localhost:8080/"
        },
        "id": "OkkeQ3GwewRs",
        "outputId": "a458f62f-eb11-441a-cf0b-e6aa4e800c14"
      },
      "execution_count": 76,
      "outputs": [
        {
          "output_type": "execute_result",
          "data": {
            "text/plain": [
              "{'doc0': ['هذا', 'هو', 'اليوم', 'الأول', 'من', 'دورة', 'استرجاع', 'المعلومات'],\n",
              " 'doc1': ['الدورة', 'باللغة', 'العربية', 'للطلاب', 'العرب'],\n",
              " 'doc2': ['دورة', 'اليوم', 'في', '30', 'مايو', '2021'],\n",
              " 'doc3': ['نأمل', 'أن', 'تفيد', 'هذه', 'الدورة', 'الطلاب', 'العرب'],\n",
              " 'doc4': ['هل', 'أنتم', 'سعداء', 'بهذه', 'التجربة']}"
            ]
          },
          "metadata": {},
          "execution_count": 76
        }
      ]
    },
    {
      "cell_type": "code",
      "metadata": {
        "id": "qWvYkakn4EQM",
        "colab": {
          "base_uri": "https://localhost:8080/"
        },
        "outputId": "c7be60e3-dd2a-4aa8-8954-a6f91dce752f"
      },
      "source": [
        "#print our collection\n",
        "print(\"### documents content ###\")\n",
        "display_dict(collection)"
      ],
      "execution_count": 77,
      "outputs": [
        {
          "output_type": "stream",
          "name": "stdout",
          "text": [
            "### documents content ###\n",
            "\n",
            "\n",
            "doc0  :  هذا هو اليوم الأول من دورة استرجاع المعلومات\n",
            "doc1  :  الدورة باللغة العربية للطلاب العرب\n",
            "doc2  :  دورة اليوم في 30 مايو 2021\n",
            "doc3  :  نأمل أن تفيد هذه الدورة الطلاب العرب\n",
            "doc4  :  هل أنتم سعداء بهذه التجربة\n",
            "\n",
            "\n"
          ]
        }
      ]
    },
    {
      "cell_type": "code",
      "metadata": {
        "id": "sbpjJdENsvFz",
        "colab": {
          "base_uri": "https://localhost:8080/"
        },
        "outputId": "9716ef66-784f-4da4-8004-5940075403db"
      },
      "source": [
        "#print the terms available in the collection\n",
        "print (\"\\n### Terms in 5 docs ###\\n\" , *get_terms(collection) ,sep= \" | \")"
      ],
      "execution_count": 78,
      "outputs": [
        {
          "output_type": "stream",
          "name": "stdout",
          "text": [
            "\n",
            "### Terms in 5 docs ###\n",
            " | هذا | هو | اليوم | الأول | من | دورة | استرجاع | المعلومات | الدورة | باللغة | العربية | للطلاب | العرب | دورة | اليوم | في | 30 | مايو | 2021 | نأمل | أن | تفيد | هذه | الدورة | الطلاب | العرب | هل | أنتم | سعداء | بهذه | التجربة\n"
          ]
        }
      ]
    },
    {
      "cell_type": "code",
      "metadata": {
        "id": "B1Mujl8_HGC-",
        "colab": {
          "base_uri": "https://localhost:8080/"
        },
        "outputId": "7dbde019-25bb-4bef-8c9c-d6cb1d363390"
      },
      "source": [
        "#print the unique_terms available in the collection\n",
        "terms=get_terms(collection)\n",
        "print (\"\\n### Unique Terms in 5 DOCs###\\n\", *get_unique_terms(terms) ,sep=\" | \")"
      ],
      "execution_count": 79,
      "outputs": [
        {
          "output_type": "stream",
          "name": "stdout",
          "text": [
            "\n",
            "### Unique Terms in 5 DOCs###\n",
            " | هذا | هو | اليوم | الأول | من | دورة | استرجاع | المعلومات | الدورة | باللغة | العربية | للطلاب | العرب | في | 30 | مايو | 2021 | نأمل | أن | تفيد | هذه | الطلاب | هل | أنتم | سعداء | بهذه | التجربة\n"
          ]
        }
      ]
    },
    {
      "cell_type": "code",
      "metadata": {
        "id": "YVMYVXZcHK--",
        "colab": {
          "base_uri": "https://localhost:8080/"
        },
        "outputId": "40f29fb5-a1bc-40db-833f-a0d0390dc781"
      },
      "source": [
        "#print the unique terms in each collection in a dictionary format\n",
        "print (\"\\n###Document terms Collection ###\" )\n",
        "display_dict(get_document_collection_terms(collection))"
      ],
      "execution_count": 80,
      "outputs": [
        {
          "output_type": "stream",
          "name": "stdout",
          "text": [
            "\n",
            "###Document terms Collection ###\n",
            "\n",
            "\n",
            "doc0  :  ['هذا', 'هو', 'اليوم', 'الأول', 'من', 'دورة', 'استرجاع', 'المعلومات']\n",
            "doc1  :  ['الدورة', 'باللغة', 'العربية', 'للطلاب', 'العرب']\n",
            "doc2  :  ['دورة', 'اليوم', 'في', '30', 'مايو', '2021']\n",
            "doc3  :  ['نأمل', 'أن', 'تفيد', 'هذه', 'الدورة', 'الطلاب', 'العرب']\n",
            "doc4  :  ['هل', 'أنتم', 'سعداء', 'بهذه', 'التجربة']\n",
            "\n",
            "\n"
          ]
        }
      ]
    },
    {
      "cell_type": "markdown",
      "metadata": {
        "id": "zv6k6deZtS22"
      },
      "source": [
        "Next, we will implement a function to build a term-document incidence matrix"
      ]
    },
    {
      "cell_type": "code",
      "metadata": {
        "id": "9_LbD5y0tv-L"
      },
      "source": [
        "#this function takes the collection of documents in a form of dictionary as an input\n",
        "def term_document_incidence_matrix(collection):\n",
        "        ## list of terms from the data file collection\n",
        "        terms=get_terms(collection)\n",
        "        #list of unique terms\n",
        "        unique_terms=get_unique_terms(terms)\n",
        "        #Document collection terms\n",
        "        docs_terms=get_document_collection_terms(collection)\n",
        "        #TermDocumentIncidenceMatrix\n",
        "        term_docs_matrix={}\n",
        "        for term in unique_terms:\n",
        "            vector=[]\n",
        "            for c in docs_terms:\n",
        "\n",
        "                if term in docs_terms[c]:\n",
        "                    vector.append(1)\n",
        "                else :\n",
        "                    vector.append(0)\n",
        "\n",
        "            term_docs_matrix[term]=vector\n",
        "        return term_docs_matrix\n",
        "\n",
        "#this fucntion takes a term and a terms-document incidence matrix and returns the incidence vector of the term\n",
        "#this function just for explanation and display purposes\n",
        "def term_incidence_vector(term,term_docs_incid_matrix):\n",
        "    try:\n",
        "     return term_docs_incid_matrix[term]\n",
        "    except:\n",
        "     return \"term not found\""
      ],
      "execution_count": 81,
      "outputs": []
    },
    {
      "cell_type": "markdown",
      "metadata": {
        "id": "EDnRoqYtuK9Z"
      },
      "source": [
        "Let's build the term-document incidence matrix"
      ]
    },
    {
      "cell_type": "code",
      "metadata": {
        "id": "V17xFC5LuNR8",
        "colab": {
          "base_uri": "https://localhost:8080/"
        },
        "outputId": "774491c6-e212-4511-b2c0-a801d25e0476"
      },
      "source": [
        "#build the term-document incidence matrix\n",
        "term_docs_incid_matrix=term_document_incidence_matrix(collection)\n",
        "print(\"Term-Document incidence Matrix\\n\")\n",
        "#formatted Display\n",
        "display_dict(term_docs_incid_matrix)\n"
      ],
      "execution_count": 82,
      "outputs": [
        {
          "output_type": "stream",
          "name": "stdout",
          "text": [
            "Term-Document incidence Matrix\n",
            "\n",
            "\n",
            "\n",
            "هذا  :  [1, 0, 0, 0, 0]\n",
            "هو  :  [1, 0, 0, 0, 0]\n",
            "اليوم  :  [1, 0, 1, 0, 0]\n",
            "الأول  :  [1, 0, 0, 0, 0]\n",
            "من  :  [1, 0, 0, 0, 0]\n",
            "دورة  :  [1, 0, 1, 0, 0]\n",
            "استرجاع  :  [1, 0, 0, 0, 0]\n",
            "المعلومات  :  [1, 0, 0, 0, 0]\n",
            "الدورة  :  [0, 1, 0, 1, 0]\n",
            "باللغة  :  [0, 1, 0, 0, 0]\n",
            "العربية  :  [0, 1, 0, 0, 0]\n",
            "للطلاب  :  [0, 1, 0, 0, 0]\n",
            "العرب  :  [0, 1, 0, 1, 0]\n",
            "في  :  [0, 0, 1, 0, 0]\n",
            "30  :  [0, 0, 1, 0, 0]\n",
            "مايو  :  [0, 0, 1, 0, 0]\n",
            "2021  :  [0, 0, 1, 0, 0]\n",
            "نأمل  :  [0, 0, 0, 1, 0]\n",
            "أن  :  [0, 0, 0, 1, 0]\n",
            "تفيد  :  [0, 0, 0, 1, 0]\n",
            "هذه  :  [0, 0, 0, 1, 0]\n",
            "الطلاب  :  [0, 0, 0, 1, 0]\n",
            "هل  :  [0, 0, 0, 0, 1]\n",
            "أنتم  :  [0, 0, 0, 0, 1]\n",
            "سعداء  :  [0, 0, 0, 0, 1]\n",
            "بهذه  :  [0, 0, 0, 0, 1]\n",
            "التجربة  :  [0, 0, 0, 0, 1]\n",
            "\n",
            "\n"
          ]
        }
      ]
    },
    {
      "cell_type": "markdown",
      "metadata": {
        "id": "Fb5jqkY-YcTh"
      },
      "source": [
        "Let's check the term incidence vector for the word العرب"
      ]
    },
    {
      "cell_type": "code",
      "metadata": {
        "id": "qxwTzQSvYgkT",
        "colab": {
          "base_uri": "https://localhost:8080/"
        },
        "outputId": "070ac2c7-1adc-431f-f95b-7b7ade866478"
      },
      "source": [
        "print(\"Incidence Vector of 'العرب' \",term_incidence_vector('العرب',term_docs_incid_matrix))"
      ],
      "execution_count": 83,
      "outputs": [
        {
          "output_type": "stream",
          "name": "stdout",
          "text": [
            "Incidence Vector of 'العرب'  [0, 1, 0, 1, 0]\n"
          ]
        }
      ]
    },
    {
      "cell_type": "markdown",
      "metadata": {
        "id": "7JMwuyDEv9W_"
      },
      "source": [
        "### **Buidling a Boolean retrieval model**"
      ]
    },
    {
      "cell_type": "markdown",
      "metadata": {
        "id": "b20B9e9lZJwu"
      },
      "source": [
        "First, we need to implement our function that splits the query to differentiate between the terms and the boolean operators, and considers only boolean operators defined previously and the terms available in our collection.\n"
      ]
    },
    {
      "cell_type": "code",
      "metadata": {
        "id": "66jN1KCdwOvI"
      },
      "source": [
        "#Query Filteration\n",
        "#input : Query\n",
        "#output : List of terms of a given query which match with the terms in our collection and the our defined boolean operators\n",
        "def query_filteration(query,collection):\n",
        "    terms= get_terms(collection)\n",
        "    unique_terms=get_unique_terms(terms)\n",
        "    qterms=[]\n",
        "    splitted_query=query.split()\n",
        "    for qterm in splitted_query:\n",
        "        if qterm in unique_terms or qterm in boolean_operators:\n",
        "          qterms.append(qterm)\n",
        "    return qterms"
      ],
      "execution_count": 84,
      "outputs": []
    },
    {
      "cell_type": "markdown",
      "metadata": {
        "id": "AC33aTUaxtwH"
      },
      "source": [
        "Let's test our query filteration function."
      ]
    },
    {
      "cell_type": "code",
      "metadata": {
        "id": "5TldFFUxwa4H",
        "colab": {
          "base_uri": "https://localhost:8080/"
        },
        "outputId": "e36500e8-d1b1-4aca-dab1-042cd1b1fea8"
      },
      "source": [
        "query=\"استرجاع AND المعلومات AND دورة\"\n",
        "qterms=query_filteration(query,collection)\n",
        "print(qterms)"
      ],
      "execution_count": 85,
      "outputs": [
        {
          "output_type": "stream",
          "name": "stdout",
          "text": [
            "['استرجاع', 'AND', 'المعلومات', 'AND', 'دورة']\n"
          ]
        }
      ]
    },
    {
      "cell_type": "markdown",
      "metadata": {
        "id": "tqLSGLsFKyvA"
      },
      "source": [
        "If a term is not defined in our collection,or a boolean operator is not defined in our set of our boolean operators it will not be considered."
      ]
    },
    {
      "cell_type": "code",
      "metadata": {
        "id": "kRwGLvW-OTI4",
        "colab": {
          "base_uri": "https://localhost:8080/"
        },
        "outputId": "a78bdb60-52e9-432e-a8d9-56107cfda8eb"
      },
      "source": [
        "#and should be capitalized and اليمن is not in our collection\n",
        "query=\"استرجاع and المعلومات AND اليمن\"\n",
        "qterms=query_filteration(query,collection)\n",
        "print(qterms)"
      ],
      "execution_count": 86,
      "outputs": [
        {
          "output_type": "stream",
          "name": "stdout",
          "text": [
            "['استرجاع', 'المعلومات', 'AND']\n"
          ]
        }
      ]
    },
    {
      "cell_type": "code",
      "metadata": {
        "id": "wRTGFSxNxsWw"
      },
      "source": [
        "# Boolean Operator Processing\n",
        "# input : Boolean Operator ,Next term Incedence Vector ,Previous term Incedence Vector\n",
        "def boolean_operator_processing(bool_operator,prevV,nextV):\n",
        "    if bool_operator == \"AND\":\n",
        "      return [a & b for a, b in zip(prevV, nextV)]\n",
        "    elif bool_operator==\"OR\" :\n",
        "      return [a | b for a, b in zip(prevV, nextV)]\n",
        "    elif bool_operator == \"NOT\":\n",
        "      return [1-a for a in prevV]"
      ],
      "execution_count": 87,
      "outputs": []
    },
    {
      "cell_type": "markdown",
      "metadata": {
        "id": "pqhGtHJAwD1v"
      },
      "source": [
        "Let's test our BooleanOperatorProcessing function"
      ]
    },
    {
      "cell_type": "code",
      "metadata": {
        "id": "OIpJm4EgStwt",
        "colab": {
          "base_uri": "https://localhost:8080/"
        },
        "outputId": "c41cd3b8-4222-42c8-8a43-b653b0d28a4a"
      },
      "source": [
        "v1=term_incidence_vector('استرجاع',term_docs_incid_matrix)\n",
        "v2=term_incidence_vector('الدورة',term_docs_incid_matrix)\n",
        "v3=[]\n",
        "print('v1',v1)\n",
        "print('v2',v2)"
      ],
      "execution_count": 88,
      "outputs": [
        {
          "output_type": "stream",
          "name": "stdout",
          "text": [
            "v1 [1, 0, 0, 0, 0]\n",
            "v2 [0, 1, 0, 1, 0]\n"
          ]
        }
      ]
    },
    {
      "cell_type": "code",
      "metadata": {
        "id": "83uEZtWxewv4",
        "colab": {
          "base_uri": "https://localhost:8080/"
        },
        "outputId": "b2fa35fe-fab4-4b66-c854-596f651c2f3e"
      },
      "source": [
        "print(boolean_operator_processing(\"AND\",v1,v2))"
      ],
      "execution_count": 89,
      "outputs": [
        {
          "output_type": "stream",
          "name": "stdout",
          "text": [
            "[0, 0, 0, 0, 0]\n"
          ]
        }
      ]
    },
    {
      "cell_type": "code",
      "metadata": {
        "id": "JZYdVMu3fA9c",
        "colab": {
          "base_uri": "https://localhost:8080/"
        },
        "outputId": "e55e4501-978e-47a3-f4aa-5ae6b578771a"
      },
      "source": [
        "print(boolean_operator_processing(\"OR\",v1,v2))"
      ],
      "execution_count": 90,
      "outputs": [
        {
          "output_type": "stream",
          "name": "stdout",
          "text": [
            "[1, 1, 0, 1, 0]\n"
          ]
        }
      ]
    },
    {
      "cell_type": "code",
      "metadata": {
        "id": "deoEbr4IfLTB",
        "colab": {
          "base_uri": "https://localhost:8080/"
        },
        "outputId": "007fc17f-af4c-4447-df83-8083e8397da5"
      },
      "source": [
        "print(boolean_operator_processing(\"NOT\",v1,v3))"
      ],
      "execution_count": 91,
      "outputs": [
        {
          "output_type": "stream",
          "name": "stdout",
          "text": [
            "[0, 1, 1, 1, 1]\n"
          ]
        }
      ]
    },
    {
      "cell_type": "code",
      "metadata": {
        "id": "0m9Z6b5myw5Y"
      },
      "source": [
        "# Boolean retrieval function\n",
        "# input : Query\n",
        "def boolean_retrieval(query,collection):\n",
        "        #build a terms_documents incidence matrix\n",
        "        term_docs_incid_matrix=term_document_incidence_matrix(collection)\n",
        "        bitwiseop=\"\"\n",
        "        #get the query terms\n",
        "        qterms=query_filteration(query,collection)\n",
        "        result=[]\n",
        "        result_set={}\n",
        "        has_previous_term=False\n",
        "        has_not_operation=False\n",
        "        inc_vec_prev=[]\n",
        "        inc_vec_next=[]\n",
        "        for term in qterms :\n",
        "            if term not in boolean_operators:\n",
        "                if  has_not_operation:\n",
        "                    if has_previous_term:\n",
        "                         inc_vec_next=boolean_operator_processing(\"NOT\",term_docs_incid_matrix[term],inc_vec_next)\n",
        "                    else :\n",
        "                        inc_vec_prev=boolean_operator_processing(\"NOT\",term_docs_incid_matrix[term],inc_vec_next)\n",
        "                        result=inc_vec_prev\n",
        "                    has_not_operation=False\n",
        "\n",
        "                elif  has_previous_term:\n",
        "\n",
        "                    inc_vec_next=term_docs_incid_matrix[term]\n",
        "                else :\n",
        "\n",
        "                    inc_vec_prev=term_docs_incid_matrix[term]\n",
        "                    result= inc_vec_prev\n",
        "                    has_previous_term=True\n",
        "\n",
        "            elif term ==\"NOT\":\n",
        "                 has_not_operation=True\n",
        "\n",
        "            else :\n",
        "                bitwiseop=term\n",
        "\n",
        "            if  len(inc_vec_next)!= 0  :\n",
        "                result = boolean_operator_processing(bitwiseop,inc_vec_prev,inc_vec_next)\n",
        "                inc_vec_prev=result\n",
        "                has_previous_term=True\n",
        "                inc_vec_next= []\n",
        "\n",
        "        for i,doc in zip(result,collection):\n",
        "            result_set[doc]=i\n",
        "        return result_set"
      ],
      "execution_count": 92,
      "outputs": []
    },
    {
      "cell_type": "markdown",
      "metadata": {
        "id": "u4oP9tpnzMCK"
      },
      "source": [
        "Let's use our boolean retrieval model"
      ]
    },
    {
      "cell_type": "code",
      "metadata": {
        "id": "wq3BDUm5Lk9Y",
        "colab": {
          "base_uri": "https://localhost:8080/"
        },
        "outputId": "490455d7-8c22-4ba6-c2d6-daa80ceebe89"
      },
      "source": [
        "#print the collection to check whether the boolean retrieval output is correct or not easily\n",
        "collection"
      ],
      "execution_count": 93,
      "outputs": [
        {
          "output_type": "execute_result",
          "data": {
            "text/plain": [
              "{'doc0': 'هذا هو اليوم الأول من دورة استرجاع المعلومات',\n",
              " 'doc1': 'الدورة باللغة العربية للطلاب العرب',\n",
              " 'doc2': 'دورة اليوم في 30 مايو 2021',\n",
              " 'doc3': 'نأمل أن تفيد هذه الدورة الطلاب العرب',\n",
              " 'doc4': 'هل أنتم سعداء بهذه التجربة'}"
            ]
          },
          "metadata": {},
          "execution_count": 93
        }
      ]
    },
    {
      "cell_type": "code",
      "metadata": {
        "id": "-jW5vB2l9Kwq",
        "colab": {
          "base_uri": "https://localhost:8080/"
        },
        "outputId": "bf3438ad-95ee-451f-9d77-e3454d903c6d"
      },
      "source": [
        "query1 = \"استرجاع OR الدورة OR سعداء\"\n",
        "print(\"query1 boolean retrieval \",boolean_retrieval(query1,collection))"
      ],
      "execution_count": 94,
      "outputs": [
        {
          "output_type": "stream",
          "name": "stdout",
          "text": [
            "query1 boolean retrieval  {'doc0': 1, 'doc1': 1, 'doc2': 0, 'doc3': 1, 'doc4': 1}\n"
          ]
        }
      ]
    },
    {
      "cell_type": "code",
      "metadata": {
        "id": "Zp3RyBAAhf2C",
        "colab": {
          "base_uri": "https://localhost:8080/"
        },
        "outputId": "ab9902b5-3ee6-4125-e6e1-a3bedd0a2e6d"
      },
      "source": [
        "v1=term_incidence_vector(\"استرجاع\",term_docs_incid_matrix)\n",
        "v1"
      ],
      "execution_count": 95,
      "outputs": [
        {
          "output_type": "execute_result",
          "data": {
            "text/plain": [
              "[1, 0, 0, 0, 0]"
            ]
          },
          "metadata": {},
          "execution_count": 95
        }
      ]
    },
    {
      "cell_type": "code",
      "metadata": {
        "id": "-5O0zCfuiNVb",
        "colab": {
          "base_uri": "https://localhost:8080/"
        },
        "outputId": "559d0fcc-3fa5-4dfd-a73f-f7a798b6610d"
      },
      "source": [
        "v2=term_incidence_vector(\"الدورة\",term_docs_incid_matrix)\n",
        "v2"
      ],
      "execution_count": 96,
      "outputs": [
        {
          "output_type": "execute_result",
          "data": {
            "text/plain": [
              "[0, 1, 0, 1, 0]"
            ]
          },
          "metadata": {},
          "execution_count": 96
        }
      ]
    },
    {
      "cell_type": "code",
      "metadata": {
        "id": "JtyguP9ojRy2",
        "colab": {
          "base_uri": "https://localhost:8080/"
        },
        "outputId": "519262bc-ec16-447b-84cb-dc42e40255a4"
      },
      "source": [
        "Qpart1=boolean_operator_processing(\"OR\",v1,v2)\n",
        "Qpart1"
      ],
      "execution_count": 97,
      "outputs": [
        {
          "output_type": "execute_result",
          "data": {
            "text/plain": [
              "[1, 1, 0, 1, 0]"
            ]
          },
          "metadata": {},
          "execution_count": 97
        }
      ]
    },
    {
      "cell_type": "code",
      "metadata": {
        "id": "tPkeL_Sxjhoq",
        "colab": {
          "base_uri": "https://localhost:8080/"
        },
        "outputId": "be62b842-a60b-4ec3-fa25-6fc0ca7555c7"
      },
      "source": [
        "v3=term_incidence_vector(\"سعداء\",term_docs_incid_matrix)\n",
        "v3"
      ],
      "execution_count": 98,
      "outputs": [
        {
          "output_type": "execute_result",
          "data": {
            "text/plain": [
              "[0, 0, 0, 0, 1]"
            ]
          },
          "metadata": {},
          "execution_count": 98
        }
      ]
    },
    {
      "cell_type": "code",
      "metadata": {
        "id": "r0nPtKuTjyfm",
        "colab": {
          "base_uri": "https://localhost:8080/"
        },
        "outputId": "329865d6-5d14-4fc8-9912-6adc9db0d78c"
      },
      "source": [
        "boolean_operator_processing(\"OR\",Qpart1,v3)"
      ],
      "execution_count": 99,
      "outputs": [
        {
          "output_type": "execute_result",
          "data": {
            "text/plain": [
              "[1, 1, 0, 1, 1]"
            ]
          },
          "metadata": {},
          "execution_count": 99
        }
      ]
    },
    {
      "cell_type": "code",
      "metadata": {
        "id": "Wb2gmHxtj-Wc",
        "colab": {
          "base_uri": "https://localhost:8080/"
        },
        "outputId": "09beb305-3ea2-486f-958c-b0768408384d"
      },
      "source": [
        "#print the collection to check whether the boolean retrieval output is correct or not easily\n",
        "collection"
      ],
      "execution_count": 100,
      "outputs": [
        {
          "output_type": "execute_result",
          "data": {
            "text/plain": [
              "{'doc0': 'هذا هو اليوم الأول من دورة استرجاع المعلومات',\n",
              " 'doc1': 'الدورة باللغة العربية للطلاب العرب',\n",
              " 'doc2': 'دورة اليوم في 30 مايو 2021',\n",
              " 'doc3': 'نأمل أن تفيد هذه الدورة الطلاب العرب',\n",
              " 'doc4': 'هل أنتم سعداء بهذه التجربة'}"
            ]
          },
          "metadata": {},
          "execution_count": 100
        }
      ]
    },
    {
      "cell_type": "code",
      "metadata": {
        "id": "F5aTdADB9bJX",
        "colab": {
          "base_uri": "https://localhost:8080/"
        },
        "outputId": "b1789222-0e58-454b-e1b1-46f800a0291b"
      },
      "source": [
        "query2 = \"استرجاع AND المعلومات AND NOT العربية\"\n",
        "print(\"query2 boolean retrieval \",boolean_retrieval(query2,collection))"
      ],
      "execution_count": 101,
      "outputs": [
        {
          "output_type": "stream",
          "name": "stdout",
          "text": [
            "query2 boolean retrieval  {'doc0': 1, 'doc1': 0, 'doc2': 0, 'doc3': 0, 'doc4': 0}\n"
          ]
        }
      ]
    },
    {
      "cell_type": "code",
      "metadata": {
        "id": "3Qfk0our9iph",
        "colab": {
          "base_uri": "https://localhost:8080/"
        },
        "outputId": "d09b6bb2-ba15-433b-b651-b015bfaaf0e4"
      },
      "source": [
        "query3 = \"العرب AND NOT المعلومات\"\n",
        "print(\"query3 boolean retrieval result \",boolean_retrieval(query3,collection))"
      ],
      "execution_count": 102,
      "outputs": [
        {
          "output_type": "stream",
          "name": "stdout",
          "text": [
            "query3 boolean retrieval result  {'doc0': 0, 'doc1': 1, 'doc2': 0, 'doc3': 1, 'doc4': 0}\n"
          ]
        }
      ]
    },
    {
      "cell_type": "markdown",
      "metadata": {
        "id": "2FVdZjX5vHMg"
      },
      "source": [
        "### **Exercise1**"
      ]
    },
    {
      "cell_type": "markdown",
      "metadata": {
        "id": "Y4JSjI_KTvpl"
      },
      "source": [
        "Find the documents that contains the word **سعداء** or **الدورة** but does not contain\n",
        "the word **العرب**"
      ]
    },
    {
      "cell_type": "code",
      "source": [
        "query2 = \"(السعداء OR الدورة) AND NOT العرب\"\n",
        "print(\"query2 boolean retrieval \",boolean_retrieval(query2,collection))"
      ],
      "metadata": {
        "colab": {
          "base_uri": "https://localhost:8080/"
        },
        "id": "5U-79e8UoxZD",
        "outputId": "0ad3d8b5-f9fa-42c8-c6a7-142f5cb90ac7"
      },
      "execution_count": 103,
      "outputs": [
        {
          "output_type": "stream",
          "name": "stdout",
          "text": [
            "query2 boolean retrieval  {'doc0': 1, 'doc1': 0, 'doc2': 1, 'doc3': 0, 'doc4': 1}\n"
          ]
        }
      ]
    },
    {
      "cell_type": "markdown",
      "metadata": {
        "id": "DElk2mxEvOoE"
      },
      "source": [
        "### **Exercise2**\n",
        "Using the sentences given below create your documents, build your term-document incidence matrix, and use the given three queries to retrieve their relevant documents.\n",
        "\n",
        "\n",
        "1. قضينا في الخليل ستة أشهر ثم بدأ أهل البلد يتوزعون منهم من أراد اللحاق بأقرباء له في طولكرم أو نابلس أو جنين و منهم من تسلل عائدا الى الجليل و منهم من ذهب الى سوريا\n",
        "2.   الحرب تخيف كثيراً  لكنها تعلم تعلمك الحرب أن الكلمات قد لا تعني مدلولاتها بشكل كامل\n",
        "3. نعم زرت بيروت زرتها بعد خمس سنين من الغياب\n",
        "4.ويلجم الجميع لا أحد يستطيع تفسير ما حصل يتمتمون الجيوش العربية ستتدخل أجل ستتدخل بالتأكيد هل يترك العرب فلسطين تضيع\n",
        "5. ترحل إلى بيروت تظنها نهاية الحرب وبداية الاستقرار يخونها حدسها الحرب هنا غير تلك في فلسطين لكنها الحرب التي لا تعبأ بك وبمن تكون\n",
        "**ملحوظة:** الجمل مقتبسة من رواية الطنطورية لرضوى عاشور\n",
        "\n",
        "\n",
        "*   **query1:** بيروت OR فلسطين OR سوريا\n",
        "*   **query2:** الحرب AND فلسطين\n",
        "*   **query3:** الحرب AND NOT فلسطين  \n",
        "\n"
      ]
    },
    {
      "cell_type": "code",
      "source": [
        "query2 = \"الحرب AND فلسطين\"\n",
        "print(\"query2 boolean retrieval \",boolean_retrieval(query2,co))"
      ],
      "metadata": {
        "colab": {
          "base_uri": "https://localhost:8080/"
        },
        "id": "vJx76FsCsbnL",
        "outputId": "ffa7b3a2-1658-481d-a8f8-6ebcb40eabf6"
      },
      "execution_count": 120,
      "outputs": [
        {
          "output_type": "stream",
          "name": "stdout",
          "text": [
            "query2 boolean retrieval  {'doc0': 0, 'doc1': 0, 'doc2': 0, 'doc3': 0, 'doc4': 1}\n"
          ]
        }
      ]
    },
    {
      "cell_type": "code",
      "metadata": {
        "id": "lfiakdKo3Bwn",
        "colab": {
          "base_uri": "https://localhost:8080/"
        },
        "outputId": "cc671524-9a08-46c1-ee1b-97d9956a484a"
      },
      "source": [
        "#create your collection\n",
        "\n",
        "co = {\n",
        "    \"doc0\": \"قضينا في الخليل ستة أشهر ثم بدأ أهل البلد يتوزعون منهم من أراد اللحاق بأقرباء له في طولكرم أو نابلس أو جنين و منهم من تسلل عائدا الى الجليل و منهم من ذهب الى سوريا\",\n",
        "    \"doc1\": \"الحرب تخيف كثيراً لكنها تعلم تعلمك الحرب أن الكلمات قد لا تعني مدلولاتها بشكل كامل\",\n",
        "    \"doc2\": \"نعم زرت بيروت زرتها بعد خمس سنين من الغياب\",\n",
        "    \"doc3\": \"ويلجم الجميع لا أحد يستطيع تفسير ما حصل يتمتمون الجيوش العربية ستتدخل أجل ستتدخل بالتأكيد هل يترك العرب فلسطين تضيع\",\n",
        "    \"doc4\": \"ترحل إلى بيروت تظنها نهاية الحرب وبداية الاستقرار يخونها حدسها الحرب هنا غير تلك في فلسطين لكنها الحرب التي لا تعبأ بك وبمن تكون\"\n",
        "}\n",
        "\n",
        "co"
      ],
      "execution_count": 112,
      "outputs": [
        {
          "output_type": "execute_result",
          "data": {
            "text/plain": [
              "{'doc0': 'قضينا في الخليل ستة أشهر ثم بدأ أهل البلد يتوزعون منهم من أراد اللحاق بأقرباء له في طولكرم أو نابلس أو جنين و منهم من تسلل عائدا الى الجليل و منهم من ذهب الى سوريا',\n",
              " 'doc1': 'الحرب تخيف كثيراً لكنها تعلم تعلمك الحرب أن الكلمات قد لا تعني مدلولاتها بشكل كامل',\n",
              " 'doc2': 'نعم زرت بيروت زرتها بعد خمس سنين من الغياب',\n",
              " 'doc3': 'ويلجم الجميع لا أحد يستطيع تفسير ما حصل يتمتمون الجيوش العربية ستتدخل أجل ستتدخل بالتأكيد هل يترك العرب فلسطين تضيع',\n",
              " 'doc4': 'ترحل إلى بيروت تظنها نهاية الحرب وبداية الاستقرار يخونها حدسها الحرب هنا غير تلك في فلسطين لكنها الحرب التي لا تعبأ بك وبمن تكون'}"
            ]
          },
          "metadata": {},
          "execution_count": 112
        }
      ]
    },
    {
      "cell_type": "code",
      "metadata": {
        "id": "dpi2iQLIGAT6",
        "colab": {
          "base_uri": "https://localhost:8080/"
        },
        "outputId": "7f859b1c-68d0-4bf9-ae84-7f821f23b0b6"
      },
      "source": [
        "#build the term incidence matrix\n",
        "\n",
        "term_docs_incid_matrix_for_co = term_document_incidence_matrix(co)\n",
        "\n",
        "term_docs_incid_matrix_for_co"
      ],
      "execution_count": 113,
      "outputs": [
        {
          "output_type": "execute_result",
          "data": {
            "text/plain": [
              "{'قضينا': [1, 0, 0, 0, 0],\n",
              " 'في': [1, 0, 0, 0, 1],\n",
              " 'الخليل': [1, 0, 0, 0, 0],\n",
              " 'ستة': [1, 0, 0, 0, 0],\n",
              " 'أشهر': [1, 0, 0, 0, 0],\n",
              " 'ثم': [1, 0, 0, 0, 0],\n",
              " 'بدأ': [1, 0, 0, 0, 0],\n",
              " 'أهل': [1, 0, 0, 0, 0],\n",
              " 'البلد': [1, 0, 0, 0, 0],\n",
              " 'يتوزعون': [1, 0, 0, 0, 0],\n",
              " 'منهم': [1, 0, 0, 0, 0],\n",
              " 'من': [1, 0, 1, 0, 0],\n",
              " 'أراد': [1, 0, 0, 0, 0],\n",
              " 'اللحاق': [1, 0, 0, 0, 0],\n",
              " 'بأقرباء': [1, 0, 0, 0, 0],\n",
              " 'له': [1, 0, 0, 0, 0],\n",
              " 'طولكرم': [1, 0, 0, 0, 0],\n",
              " 'أو': [1, 0, 0, 0, 0],\n",
              " 'نابلس': [1, 0, 0, 0, 0],\n",
              " 'جنين': [1, 0, 0, 0, 0],\n",
              " 'و': [1, 0, 0, 0, 0],\n",
              " 'تسلل': [1, 0, 0, 0, 0],\n",
              " 'عائدا': [1, 0, 0, 0, 0],\n",
              " 'الى': [1, 0, 0, 0, 0],\n",
              " 'الجليل': [1, 0, 0, 0, 0],\n",
              " 'ذهب': [1, 0, 0, 0, 0],\n",
              " 'سوريا': [1, 0, 0, 0, 0],\n",
              " 'الحرب': [0, 1, 0, 0, 1],\n",
              " 'تخيف': [0, 1, 0, 0, 0],\n",
              " 'كثيراً': [0, 1, 0, 0, 0],\n",
              " 'لكنها': [0, 1, 0, 0, 1],\n",
              " 'تعلم': [0, 1, 0, 0, 0],\n",
              " 'تعلمك': [0, 1, 0, 0, 0],\n",
              " 'أن': [0, 1, 0, 0, 0],\n",
              " 'الكلمات': [0, 1, 0, 0, 0],\n",
              " 'قد': [0, 1, 0, 0, 0],\n",
              " 'لا': [0, 1, 0, 1, 1],\n",
              " 'تعني': [0, 1, 0, 0, 0],\n",
              " 'مدلولاتها': [0, 1, 0, 0, 0],\n",
              " 'بشكل': [0, 1, 0, 0, 0],\n",
              " 'كامل': [0, 1, 0, 0, 0],\n",
              " 'نعم': [0, 0, 1, 0, 0],\n",
              " 'زرت': [0, 0, 1, 0, 0],\n",
              " 'بيروت': [0, 0, 1, 0, 1],\n",
              " 'زرتها': [0, 0, 1, 0, 0],\n",
              " 'بعد': [0, 0, 1, 0, 0],\n",
              " 'خمس': [0, 0, 1, 0, 0],\n",
              " 'سنين': [0, 0, 1, 0, 0],\n",
              " 'الغياب': [0, 0, 1, 0, 0],\n",
              " 'ويلجم': [0, 0, 0, 1, 0],\n",
              " 'الجميع': [0, 0, 0, 1, 0],\n",
              " 'أحد': [0, 0, 0, 1, 0],\n",
              " 'يستطيع': [0, 0, 0, 1, 0],\n",
              " 'تفسير': [0, 0, 0, 1, 0],\n",
              " 'ما': [0, 0, 0, 1, 0],\n",
              " 'حصل': [0, 0, 0, 1, 0],\n",
              " 'يتمتمون': [0, 0, 0, 1, 0],\n",
              " 'الجيوش': [0, 0, 0, 1, 0],\n",
              " 'العربية': [0, 0, 0, 1, 0],\n",
              " 'ستتدخل': [0, 0, 0, 1, 0],\n",
              " 'أجل': [0, 0, 0, 1, 0],\n",
              " 'بالتأكيد': [0, 0, 0, 1, 0],\n",
              " 'هل': [0, 0, 0, 1, 0],\n",
              " 'يترك': [0, 0, 0, 1, 0],\n",
              " 'العرب': [0, 0, 0, 1, 0],\n",
              " 'فلسطين': [0, 0, 0, 1, 1],\n",
              " 'تضيع': [0, 0, 0, 1, 0],\n",
              " 'ترحل': [0, 0, 0, 0, 1],\n",
              " 'إلى': [0, 0, 0, 0, 1],\n",
              " 'تظنها': [0, 0, 0, 0, 1],\n",
              " 'نهاية': [0, 0, 0, 0, 1],\n",
              " 'وبداية': [0, 0, 0, 0, 1],\n",
              " 'الاستقرار': [0, 0, 0, 0, 1],\n",
              " 'يخونها': [0, 0, 0, 0, 1],\n",
              " 'حدسها': [0, 0, 0, 0, 1],\n",
              " 'هنا': [0, 0, 0, 0, 1],\n",
              " 'غير': [0, 0, 0, 0, 1],\n",
              " 'تلك': [0, 0, 0, 0, 1],\n",
              " 'التي': [0, 0, 0, 0, 1],\n",
              " 'تعبأ': [0, 0, 0, 0, 1],\n",
              " 'بك': [0, 0, 0, 0, 1],\n",
              " 'وبمن': [0, 0, 0, 0, 1],\n",
              " 'تكون': [0, 0, 0, 0, 1]}"
            ]
          },
          "metadata": {},
          "execution_count": 113
        }
      ]
    },
    {
      "cell_type": "code",
      "metadata": {
        "id": "hTwwlEeYMgny",
        "colab": {
          "base_uri": "https://localhost:8080/"
        },
        "outputId": "8b84f2e9-b735-413c-8afc-6c5f523e5b7c"
      },
      "source": [
        "#boolean retrieval query1\n",
        "\n",
        "query2 = \"سوريا OR فلسطين OR بيروت\"\n",
        "print(\"query2 boolean retrieval \",boolean_retrieval(query2,co))"
      ],
      "execution_count": 122,
      "outputs": [
        {
          "output_type": "stream",
          "name": "stdout",
          "text": [
            "query2 boolean retrieval  {'doc0': 1, 'doc1': 0, 'doc2': 1, 'doc3': 1, 'doc4': 1}\n"
          ]
        }
      ]
    },
    {
      "cell_type": "code",
      "metadata": {
        "id": "2UMkU1yDGUfn",
        "colab": {
          "base_uri": "https://localhost:8080/"
        },
        "outputId": "dd5a3d64-5735-48da-d4fa-2210a6f9a8aa"
      },
      "source": [
        "#boolean retrieval query2\n",
        "\n",
        "query2 = \"الحرب AND فلسطين\"\n",
        "print(\"query2 boolean retrieval \",boolean_retrieval(query2,co))"
      ],
      "execution_count": 121,
      "outputs": [
        {
          "output_type": "stream",
          "name": "stdout",
          "text": [
            "query2 boolean retrieval  {'doc0': 0, 'doc1': 0, 'doc2': 0, 'doc3': 0, 'doc4': 1}\n"
          ]
        }
      ]
    },
    {
      "cell_type": "code",
      "metadata": {
        "id": "UreplVSk3VQS",
        "colab": {
          "base_uri": "https://localhost:8080/"
        },
        "outputId": "9ca67d5e-7ebc-4dba-93af-6f52b297f7e5"
      },
      "source": [
        "#boolean retrieval query3\n",
        "\n",
        "query2 = \"فلسطين AND NOT الحرب\"\n",
        "print(\"query2 boolean retrieval \",boolean_retrieval(query2,co))"
      ],
      "execution_count": 124,
      "outputs": [
        {
          "output_type": "stream",
          "name": "stdout",
          "text": [
            "query2 boolean retrieval  {'doc0': 0, 'doc1': 0, 'doc2': 0, 'doc3': 1, 'doc4': 0}\n"
          ]
        }
      ]
    },
    {
      "cell_type": "markdown",
      "metadata": {
        "id": "71_fMCB2FXIG"
      },
      "source": [
        "### **References**\n",
        "\n",
        "\n",
        "*   [Information retrieval models.](https://github.com/YoucefBYu/Information-Retrieval-Models)\n",
        "\n"
      ]
    }
  ]
}